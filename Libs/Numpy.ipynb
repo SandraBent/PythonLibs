{
 "cells": [
  {
   "cell_type": "code",
   "execution_count": 1,
   "metadata": {},
   "outputs": [],
   "source": [
    "import numpy as np"
   ]
  },
  {
   "cell_type": "markdown",
   "metadata": {},
   "source": [
    "<a id=\"contents\"></a>\n",
    "## Table of Contents\n",
    "\n",
    "<p>numpy</p>\n",
    "<ul>\n",
    "<li><a href=\"#ndarray\">ndarray</a></li> \n",
    "</ul>\n",
    "\n",
    "<p>numpy.random</p>\n",
    "<ul>\n",
    "<li><a href=\"#choice\">choice</a></li> \n",
    "</ul>"
   ]
  },
  {
   "cell_type": "markdown",
   "metadata": {},
   "source": [
    "<a id='ndarray'></a>\n",
    "# ndarray -> array: <a href='#contents'>Contents</a>\n",
    "* An array object represents a multidimensional, homogeneous array of fixed-size items.  An associated data-type object describes the format of each element in the array (its byte-order, how many bytes it occupies in memory, whether it is an integer, a floating point number, or something else, etc.)\n",
    "   \n",
    "* Arrays should be constructed using `array`, `zeros` or `empty` (refer to the See Also section below).  The parameters given here refer to a low-level method (`ndarray(...)`) for instantiating an array.\n",
    "  \n",
    "* For more information, refer to the `numpy` module and examine the methods and attributes of an array."
   ]
  },
  {
   "cell_type": "code",
   "execution_count": 22,
   "metadata": {},
   "outputs": [
    {
     "data": {
      "text/plain": [
       "array([1, 2, 3])"
      ]
     },
     "execution_count": 22,
     "metadata": {},
     "output_type": "execute_result"
    }
   ],
   "source": [
    "np.array([1,2,3])"
   ]
  },
  {
   "cell_type": "markdown",
   "metadata": {},
   "source": [
    "<a id='choice'></a>\n",
    "# choice : <a href='#contents'>Contents</a>"
   ]
  },
  {
   "cell_type": "code",
   "execution_count": 13,
   "metadata": {},
   "outputs": [
    {
     "data": {
      "text/plain": [
       "array([1, 1, 4])"
      ]
     },
     "metadata": {},
     "output_type": "display_data"
    },
    {
     "data": {
      "text/plain": [
       "array(['piglet', 'piglet', 'piglet', 'pooh', 'pooh'], dtype='<U11')"
      ]
     },
     "execution_count": 13,
     "metadata": {},
     "output_type": "execute_result"
    }
   ],
   "source": [
    "#help(np.random.choice)\n",
    "\n",
    "# Generate a uniform random sample from np.arange(5) of size 3:\n",
    "display(np.random.choice(5, 3))\n",
    "\n",
    "# Any of the above can be repeated with an arbitrary array-like\n",
    "# instead of just integers. For instance:\n",
    "aa_milne_arr = ['pooh', 'rabbit', 'piglet', 'Christopher']\n",
    "np.random.choice(aa_milne_arr, 5)"
   ]
  },
  {
   "cell_type": "code",
   "execution_count": null,
   "metadata": {},
   "outputs": [],
   "source": []
  }
 ],
 "metadata": {
  "kernelspec": {
   "display_name": "Python 3",
   "language": "python",
   "name": "python3"
  },
  "language_info": {
   "codemirror_mode": {
    "name": "ipython",
    "version": 3
   },
   "file_extension": ".py",
   "mimetype": "text/x-python",
   "name": "python",
   "nbconvert_exporter": "python",
   "pygments_lexer": "ipython3",
   "version": "3.7.9"
  }
 },
 "nbformat": 4,
 "nbformat_minor": 4
}
